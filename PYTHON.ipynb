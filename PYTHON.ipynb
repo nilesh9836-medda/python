{
  "nbformat": 4,
  "nbformat_minor": 0,
  "metadata": {
    "colab": {
      "provenance": [],
      "toc_visible": true,
      "authorship_tag": "ABX9TyODRaMs2G/Q25LUC4NMbL7Q"
    },
    "kernelspec": {
      "name": "python3",
      "display_name": "Python 3"
    },
    "language_info": {
      "name": "python"
    }
  },
  "cells": [
    {
      "cell_type": "markdown",
      "source": [
        "# **Basic Python**\n",
        "---"
      ],
      "metadata": {
        "id": "exv8kIEsZ2Ew"
      }
    },
    {
      "cell_type": "markdown",
      "source": [
        "\n",
        "\n",
        "##   **Basic - 1**"
      ],
      "metadata": {
        "id": "GkpUA5Yob1YM"
      }
    },
    {
      "cell_type": "markdown",
      "source": [
        "\n",
        "\n",
        "1.   Write a python program to get the python version is used\n"
      ],
      "metadata": {
        "id": "xhJbVhDPcbXp"
      }
    },
    {
      "cell_type": "code",
      "source": [
        "import sys\n",
        "print(\"Pyhon Version\")\n",
        "print(sys.version)\n",
        "print(\"Version info.\")\n",
        "print(sys.version_info)"
      ],
      "metadata": {
        "colab": {
          "base_uri": "https://localhost:8080/"
        },
        "id": "k4C5XOt-cxdD",
        "outputId": "a6d03c2d-cf5c-468c-e1d3-cfb8f85d24d5"
      },
      "execution_count": null,
      "outputs": [
        {
          "output_type": "stream",
          "name": "stdout",
          "text": [
            "Pyhon Version\n",
            "3.11.12 (main, Apr  9 2025, 08:55:54) [GCC 11.4.0]\n",
            "Version info.\n",
            "sys.version_info(major=3, minor=11, micro=12, releaselevel='final', serial=0)\n"
          ]
        }
      ]
    },
    {
      "cell_type": "markdown",
      "source": [],
      "metadata": {
        "id": "Mq9zGWpEcUsn"
      }
    },
    {
      "cell_type": "markdown",
      "source": [
        "2.  Write a Python program to diplay the current date and time.\n",
        "\n"
      ],
      "metadata": {
        "id": "XuMXVbDZeX2D"
      }
    },
    {
      "cell_type": "code",
      "source": [
        "import datetime\n",
        "now = datetime.datetime.now()\n",
        "print(\"Current date and time: \")\n",
        "print(now.strftime(\"%d-%m-%y %H:%M:%S\"))"
      ],
      "metadata": {
        "id": "pb6Lc8Tle2lz",
        "colab": {
          "base_uri": "https://localhost:8080/"
        },
        "outputId": "435fa1cf-2d2d-445b-f173-6fc283dd1e33"
      },
      "execution_count": null,
      "outputs": [
        {
          "output_type": "stream",
          "name": "stdout",
          "text": [
            "Current date and time: \n",
            "26-04-25 12:30:09\n"
          ]
        }
      ]
    },
    {
      "cell_type": "markdown",
      "source": [
        "3.  Write a Python program which accept radus of circle from user and compute the area."
      ],
      "metadata": {
        "id": "tIuWWBu4E_a2"
      }
    },
    {
      "cell_type": "code",
      "source": [
        "from math import pi\n",
        "r = float(input(\"Enter the radius of circle: \"))\n",
        "print(\"The area of the circle with radius \"+str(r)+\" is: \"+str(pi*(r**2)))"
      ],
      "metadata": {
        "colab": {
          "base_uri": "https://localhost:8080/"
        },
        "id": "4id6l9UmFaPy",
        "outputId": "b8d004fa-5776-44b1-c217-ce9a95f0bfa2"
      },
      "execution_count": null,
      "outputs": [
        {
          "output_type": "stream",
          "name": "stdout",
          "text": [
            "Enter the radius of circle: 1.1\n",
            "The area of the circle with radius 1.1 is: 3.8013271108436504\n"
          ]
        }
      ]
    },
    {
      "cell_type": "markdown",
      "source": [
        "4.  Write a Python program to print your name in reverse order"
      ],
      "metadata": {
        "id": "D1xhZBu-HH5b"
      }
    },
    {
      "cell_type": "code",
      "source": [
        "fname = input(\"Enter your First name: \")\n",
        "lname = input(\"Enter your last name: \")\n",
        "print(\"Hello \"+lname+\" \"+fname)"
      ],
      "metadata": {
        "colab": {
          "base_uri": "https://localhost:8080/"
        },
        "id": "B6lI3O79Hf6w",
        "outputId": "715ed0bd-23a1-4dbd-d24a-f7c4176e85cc"
      },
      "execution_count": null,
      "outputs": [
        {
          "output_type": "stream",
          "name": "stdout",
          "text": [
            "Enter your First name: Ghost\n",
            "Enter your last name: 0fCode\n",
            "Hello 0fCode Ghost\n"
          ]
        }
      ]
    },
    {
      "cell_type": "markdown",
      "source": [
        "5.  Write a Python program which accepts a sequence of vomma-separated numbers from user and generate a list and tuple with those numbers."
      ],
      "metadata": {
        "id": "g4b-agA_IPW3"
      }
    },
    {
      "cell_type": "markdown",
      "source": [
        "- Tuple ->  A tuple is a container which holds a series of comma seperated values between parentheses. It can hold mix data types and tuples are immutable (i.e. one cannot change its content once created).\n",
        "\n",
        "- List -> A list is a container which holds a series of comma seperated values between square brackets. Like tuple it can also hold mix data types but the contents of list and its size can be changed during execution."
      ],
      "metadata": {
        "id": "lw0fgbeNKMPI"
      }
    },
    {
      "cell_type": "code",
      "source": [
        "values = input(\"Enter comma-seperated values: \")\n",
        "my_list = values.split(\",\")\n",
        "my_tuple = tuple(my_list)\n",
        "print(\"List: \",my_list)\n",
        "print(\"Tuple: \",my_tuple)"
      ],
      "metadata": {
        "colab": {
          "base_uri": "https://localhost:8080/"
        },
        "id": "uS5s7Nf8MqQw",
        "outputId": "dcd7cd11-f883-4679-dbf8-b48c3cde7eb7"
      },
      "execution_count": null,
      "outputs": [
        {
          "output_type": "stream",
          "name": "stdout",
          "text": [
            "Enter comma-seperated values: 1,2,3,4\n",
            "List:  ['1', '2', '3', '4']\n",
            "Tuple:  ('1', '2', '3', '4')\n"
          ]
        }
      ]
    },
    {
      "cell_type": "markdown",
      "source": [
        "5.  wrtie a Python Program to print extension of the give filename from user."
      ],
      "metadata": {
        "id": "DPvBJQ9CRQWI"
      }
    },
    {
      "cell_type": "code",
      "source": [
        "filename = input(\"Enter the filename: \")\n",
        "f_extns = filename.split(\".\")\n",
        "print(\"The extension of file is: \",repr(f_extns[-1]))"
      ],
      "metadata": {
        "colab": {
          "base_uri": "https://localhost:8080/"
        },
        "id": "RZckLVbjVNq2",
        "outputId": "8056fd50-a321-48b2-9c1b-24608e549fc4"
      },
      "execution_count": null,
      "outputs": [
        {
          "output_type": "stream",
          "name": "stdout",
          "text": [
            "Enter the filename: myfile.txt\n",
            "The extension of file is:  'txt'\n"
          ]
        }
      ]
    },
    {
      "cell_type": "markdown",
      "source": [
        "6.  Write a Python program to display the first and last colors from the following list.\n",
        "***color_list=[\"Red\",\"Green\",\"White\",\"Black\"]***"
      ],
      "metadata": {
        "id": "k-H9PY9k-2BF"
      }
    },
    {
      "cell_type": "code",
      "source": [
        "color_list=['Red','Green','White','Black']\n",
        "print(\"%s %s\"%(color_list[0],color_list[-1]))"
      ],
      "metadata": {
        "colab": {
          "base_uri": "https://localhost:8080/"
        },
        "id": "haaNE12E_mPF",
        "outputId": "a926ca98-c983-4fe6-ee31-f20f21822179"
      },
      "execution_count": 1,
      "outputs": [
        {
          "output_type": "stream",
          "name": "stdout",
          "text": [
            "Red Black\n"
          ]
        }
      ]
    },
    {
      "cell_type": "markdown",
      "source": [
        "7.  Write a Python program that accepts an integer (n) and computes the value of n+nn+nnn."
      ],
      "metadata": {
        "id": "ZTGnmi9gAV8q"
      }
    },
    {
      "cell_type": "code",
      "source": [
        "a = int(input(\"Enter an integer : \"))\n",
        "n1 = int(\"%s\"%a)\n",
        "n2 = int(\"%s%s\"%(a,a))\n",
        "n3 = int(\"%s%s%s\"%(a,a,a))\n",
        "print(n1+n2+n3)"
      ],
      "metadata": {
        "colab": {
          "base_uri": "https://localhost:8080/"
        },
        "id": "TEYnSAqeA9EX",
        "outputId": "14b45bcb-c327-4af5-9026-4af1567737c7"
      },
      "execution_count": 2,
      "outputs": [
        {
          "output_type": "stream",
          "name": "stdout",
          "text": [
            "Enter an integer : 5\n",
            "615\n"
          ]
        }
      ]
    },
    {
      "cell_type": "markdown",
      "source": [
        "8.  Write a Python program to print the documents (syntax, description etc.) of python built-in function(s)."
      ],
      "metadata": {
        "id": "8zWra_oMCWv4"
      }
    },
    {
      "cell_type": "code",
      "source": [
        "print(abs.__doc__)"
      ],
      "metadata": {
        "colab": {
          "base_uri": "https://localhost:8080/"
        },
        "id": "fX8ae76eDZVe",
        "outputId": "5bafbe36-acfd-45ee-f3bd-8538e067ec4d"
      },
      "execution_count": 4,
      "outputs": [
        {
          "output_type": "stream",
          "name": "stdout",
          "text": [
            "Return the absolute value of the argument.\n"
          ]
        }
      ]
    },
    {
      "cell_type": "markdown",
      "source": [
        "9.  Write a Python program to print calendar of a given month and year."
      ],
      "metadata": {
        "id": "HMaThWLIEXQV"
      }
    },
    {
      "cell_type": "code",
      "source": [
        "import calendar\n",
        "y = int(input(\"Enter the year : \"))\n",
        "m = int(input(\"Enter the month : \"))\n",
        "print(calendar.month(y,m))"
      ],
      "metadata": {
        "colab": {
          "base_uri": "https://localhost:8080/"
        },
        "id": "bTIaiQmOEr_M",
        "outputId": "1c8d5170-51d3-4b04-cb8d-1a9caf6e45e7"
      },
      "execution_count": 5,
      "outputs": [
        {
          "output_type": "stream",
          "name": "stdout",
          "text": [
            "Enter the year : 2025\n",
            "Enter the month : 4\n",
            "     April 2025\n",
            "Mo Tu We Th Fr Sa Su\n",
            "    1  2  3  4  5  6\n",
            " 7  8  9 10 11 12 13\n",
            "14 15 16 17 18 19 20\n",
            "21 22 23 24 25 26 27\n",
            "28 29 30\n",
            "\n"
          ]
        }
      ]
    },
    {
      "cell_type": "markdown",
      "source": [
        "10. Write a Python program to calculate number of days between two dates."
      ],
      "metadata": {
        "id": "Vb_bSHkXFcv6"
      }
    },
    {
      "cell_type": "code",
      "source": [
        "from datetime import date\n",
        "f_date = date(2025,4,13)\n",
        "l_date = date(2025,4,27)\n",
        "delta = l_date-f_date\n",
        "print(delta.days)"
      ],
      "metadata": {
        "colab": {
          "base_uri": "https://localhost:8080/"
        },
        "id": "b8TkwnAzGkY4",
        "outputId": "17b6950f-0b2c-478c-c08d-e4fd8e33b423"
      },
      "execution_count": 6,
      "outputs": [
        {
          "output_type": "stream",
          "name": "stdout",
          "text": [
            "14\n"
          ]
        }
      ]
    },
    {
      "cell_type": "markdown",
      "source": [
        "11. Write a Python program to test whether a number is within 100 of 1000 or 2000."
      ],
      "metadata": {
        "id": "AAZUdlshNGyr"
      }
    },
    {
      "cell_type": "code",
      "source": [
        "def near_thousand(n):\n",
        "  return ((abs(1000-n)<=100)or(abs(2000-n)<=100))\n",
        "print(near_thousand(1000))\n",
        "print(near_thousand(900))\n",
        "print(near_thousand(800))\n",
        "print(near_thousand(2200))"
      ],
      "metadata": {
        "colab": {
          "base_uri": "https://localhost:8080/"
        },
        "id": "PZ3O2zbxOqE4",
        "outputId": "83712325-1230-4f5e-de2c-3483efb8cd24"
      },
      "execution_count": 1,
      "outputs": [
        {
          "output_type": "stream",
          "name": "stdout",
          "text": [
            "True\n",
            "True\n",
            "False\n",
            "False\n"
          ]
        }
      ]
    },
    {
      "cell_type": "markdown",
      "source": [
        "12. Write a Python program to calculate the sum of three given numbers, if the values are equal then return thrice of their sum."
      ],
      "metadata": {
        "id": "6lyNLqFv2j1R"
      }
    },
    {
      "cell_type": "code",
      "source": [
        "def sum_thrice(x,y,z):\n",
        "\n",
        "  sum = x+y+z\n",
        "\n",
        "  if x==y==z:\n",
        "    sum = sum*3\n",
        "  return sum\n",
        "\n",
        "print(sum_thrice(1,2,3))\n",
        "print(sum_thrice(3,3,3))"
      ],
      "metadata": {
        "colab": {
          "base_uri": "https://localhost:8080/"
        },
        "id": "xKgJbdga3LNE",
        "outputId": "2cf74698-cd71-4f30-fcc3-4931c5d4fa25"
      },
      "execution_count": 2,
      "outputs": [
        {
          "output_type": "stream",
          "name": "stdout",
          "text": [
            "6\n",
            "27\n"
          ]
        }
      ]
    },
    {
      "cell_type": "markdown",
      "source": [
        "13. Write a Python program to get a string which is n (non-negative integer) copies of a given str."
      ],
      "metadata": {
        "id": "56gqCMXyDbKI"
      }
    },
    {
      "cell_type": "code",
      "source": [
        "def larger_string(str,n):\n",
        "  result = \"\"\n",
        "  for i in range(n):\n",
        "    result = result + str\n",
        "  return result\n",
        "\n",
        "print(larger_string('abc',2))\n",
        "print(larger_string('.py',3))"
      ],
      "metadata": {
        "colab": {
          "base_uri": "https://localhost:8080/"
        },
        "id": "P0rLhC9ef7Mh",
        "outputId": "07358430-723f-486f-b4b1-88bb38d4f6d1"
      },
      "execution_count": 3,
      "outputs": [
        {
          "output_type": "stream",
          "name": "stdout",
          "text": [
            "abcabc\n",
            ".py.py.py\n"
          ]
        }
      ]
    },
    {
      "cell_type": "markdown",
      "source": [
        "14. Write a Python program to get a new string from a given string where \"Is\" has been added to the front. If the given string already begins with \"Is\" then return the string unchanged."
      ],
      "metadata": {
        "id": "mUQHuRlIhSIU"
      }
    },
    {
      "cell_type": "code",
      "source": [
        "def new_string(str):\n",
        "  if len(str)>=2 and str[:2]==\"Is\":\n",
        "    return str\n",
        "  return \"Is\"+str\n",
        "\n",
        "print(new_string(\"Array\"))\n",
        "print(new_string(\"IsEmpty\"))"
      ],
      "metadata": {
        "colab": {
          "base_uri": "https://localhost:8080/"
        },
        "id": "ZSZjZZrNkAGq",
        "outputId": "826c4271-1beb-40ff-9d5c-5f8b91d718f5"
      },
      "execution_count": 5,
      "outputs": [
        {
          "output_type": "stream",
          "name": "stdout",
          "text": [
            "IsArray\n",
            "IsEmpty\n"
          ]
        }
      ]
    },
    {
      "cell_type": "markdown",
      "source": [
        "15. Write a Python program to count the number 4 in a given list."
      ],
      "metadata": {
        "id": "8MApLEkPoVRQ"
      }
    },
    {
      "cell_type": "code",
      "source": [
        "def list_nums(nums):\n",
        "  count=0\n",
        "  for num in nums:\n",
        "    if num==4:\n",
        "      count=count+1\n",
        "  return count\n",
        "\n",
        "print(\"The number of '4' is : \",list_nums([1,2,3,4,4,5,6,4,1,2,4]))"
      ],
      "metadata": {
        "colab": {
          "base_uri": "https://localhost:8080/"
        },
        "id": "iZDMLi4zdGUK",
        "outputId": "9d6b2450-6b1d-42b7-d778-60fb376aadad"
      },
      "execution_count": 4,
      "outputs": [
        {
          "output_type": "stream",
          "name": "stdout",
          "text": [
            "The number of '4' is :  4\n"
          ]
        }
      ]
    },
    {
      "cell_type": "markdown",
      "source": [
        "16. Write a Python program to test whether a passed letter is a vowel or not."
      ],
      "metadata": {
        "id": "PWirHvHfuF2K"
      }
    },
    {
      "cell_type": "code",
      "source": [
        "def vowel_test(letter):\n",
        "  vowel = 'aeiou'\n",
        "  return letter in vowel\n",
        "\n",
        "print(vowel_test('c'))\n",
        "print(vowel_test('i'))"
      ],
      "metadata": {
        "colab": {
          "base_uri": "https://localhost:8080/"
        },
        "id": "SGk91Gr2udrc",
        "outputId": "a7cdd07f-c1dd-4027-a3d5-01eee050109f"
      },
      "execution_count": 1,
      "outputs": [
        {
          "output_type": "stream",
          "name": "stdout",
          "text": [
            "False\n",
            "True\n"
          ]
        }
      ]
    },
    {
      "cell_type": "markdown",
      "source": [
        "17. Write a Python program to create a histogram from a given list of integers."
      ],
      "metadata": {
        "id": "wx-cYVpzv0TG"
      }
    },
    {
      "cell_type": "code",
      "source": [
        "def histogram(nums):\n",
        "  for i in nums:\n",
        "    output = \"\"\n",
        "    time = i\n",
        "    while(time>0):\n",
        "      output = output + \"*\"\n",
        "      time = time - 1\n",
        "    print(output)\n",
        "\n",
        "histogram([5,4,6,3])"
      ],
      "metadata": {
        "colab": {
          "base_uri": "https://localhost:8080/"
        },
        "id": "-dPiJM_fwbgM",
        "outputId": "6cda7b9c-3c71-42d2-d29f-eef67c7a37e0"
      },
      "execution_count": 6,
      "outputs": [
        {
          "output_type": "stream",
          "name": "stdout",
          "text": [
            "*****\n",
            "****\n",
            "******\n",
            "***\n"
          ]
        }
      ]
    },
    {
      "cell_type": "markdown",
      "source": [
        "18. Write a Python program to check whether a file exists."
      ],
      "metadata": {
        "id": "QZiWF6mWzizc"
      }
    },
    {
      "cell_type": "code",
      "source": [
        "import os.path\n",
        "open('file.txt', 'w')\n",
        "print(os.path.isfile('file.txt'))"
      ],
      "metadata": {
        "colab": {
          "base_uri": "https://localhost:8080/"
        },
        "id": "eLtLrUDNz40Y",
        "outputId": "da05b233-3152-4135-c332-a91c06febbc0"
      },
      "execution_count": 7,
      "outputs": [
        {
          "output_type": "stream",
          "name": "stdout",
          "text": [
            "True\n"
          ]
        }
      ]
    },
    {
      "cell_type": "markdown",
      "source": [
        "19. Write a Python program to drtermine whether a Python shell is ececuting in 32bit or 64bit mode on OS?"
      ],
      "metadata": {
        "id": "26y7OdYW0hp8"
      }
    },
    {
      "cell_type": "code",
      "source": [
        "import struct\n",
        "print(struct.calcsize(\"P\") * 8)"
      ],
      "metadata": {
        "colab": {
          "base_uri": "https://localhost:8080/"
        },
        "id": "BLx2TiX81N_S",
        "outputId": "449aa153-a149-41da-e5db-38e7d7f1ae0b"
      },
      "execution_count": 8,
      "outputs": [
        {
          "output_type": "stream",
          "name": "stdout",
          "text": [
            "64\n"
          ]
        }
      ]
    },
    {
      "cell_type": "markdown",
      "source": [
        "20. Write a Python program to get OS name, platform and release information."
      ],
      "metadata": {
        "id": "HZd5gM4v1hGj"
      }
    },
    {
      "cell_type": "code",
      "source": [
        "import platform\n",
        "import os\n",
        "print(os.name)\n",
        "print(platform.system())\n",
        "print(platform.release())"
      ],
      "metadata": {
        "colab": {
          "base_uri": "https://localhost:8080/"
        },
        "id": "OEUcl4_B2A2M",
        "outputId": "53ae884a-3523-4117-9eb3-4736548ee12c"
      },
      "execution_count": 9,
      "outputs": [
        {
          "output_type": "stream",
          "name": "stdout",
          "text": [
            "posix\n",
            "Linux\n",
            "6.1.123+\n"
          ]
        }
      ]
    },
    {
      "cell_type": "markdown",
      "source": [
        "21. Write a Python program to locate Python site-packages."
      ],
      "metadata": {
        "id": "fcHPs_aq2o27"
      }
    },
    {
      "cell_type": "code",
      "source": [
        "import site\n",
        "print(site.getsitepackages())"
      ],
      "metadata": {
        "colab": {
          "base_uri": "https://localhost:8080/"
        },
        "id": "PqkRMoYt3af0",
        "outputId": "924f9487-25a4-4341-e171-b47591f2c282"
      },
      "execution_count": 10,
      "outputs": [
        {
          "output_type": "stream",
          "name": "stdout",
          "text": [
            "['/usr/local/lib/python3.11/dist-packages', '/usr/lib/python3/dist-packages', '/usr/lib/python3.11/dist-packages']\n"
          ]
        }
      ]
    },
    {
      "cell_type": "markdown",
      "source": [
        "22. Write a Python program to call an external command in Python."
      ],
      "metadata": {
        "id": "uZWpvS1o3rdj"
      }
    },
    {
      "cell_type": "code",
      "source": [
        "from subprocess import call\n",
        "call([\"ls\", \"-l\"])"
      ],
      "metadata": {
        "colab": {
          "base_uri": "https://localhost:8080/"
        },
        "id": "boBRnn3w4HCM",
        "outputId": "3016fe38-4ac3-40c9-80ec-91fcad535c00"
      },
      "execution_count": 11,
      "outputs": [
        {
          "output_type": "execute_result",
          "data": {
            "text/plain": [
              "0"
            ]
          },
          "metadata": {},
          "execution_count": 11
        }
      ]
    },
    {
      "cell_type": "markdown",
      "source": [
        "23. Write a Python program to get the path and name of the filethat is currently executing."
      ],
      "metadata": {
        "id": "-MFlgm4l5HmA"
      }
    },
    {
      "cell_type": "code",
      "source": [
        "import os\n",
        "print(\"Current file name : \",os.path.realpath(__file__))"
      ],
      "metadata": {
        "colab": {
          "base_uri": "https://localhost:8080/",
          "height": 159
        },
        "collapsed": true,
        "id": "vhD4SAtS5eOy",
        "outputId": "354b2fb8-6f82-4b13-94a9-2c246fc2ebaa"
      },
      "execution_count": 12,
      "outputs": [
        {
          "output_type": "error",
          "ename": "NameError",
          "evalue": "name '__file__' is not defined",
          "traceback": [
            "\u001b[0;31m---------------------------------------------------------------------------\u001b[0m",
            "\u001b[0;31mNameError\u001b[0m                                 Traceback (most recent call last)",
            "\u001b[0;32m<ipython-input-12-dbc5b47a780e>\u001b[0m in \u001b[0;36m<cell line: 0>\u001b[0;34m()\u001b[0m\n\u001b[1;32m      1\u001b[0m \u001b[0;32mimport\u001b[0m \u001b[0mos\u001b[0m\u001b[0;34m\u001b[0m\u001b[0;34m\u001b[0m\u001b[0m\n\u001b[0;32m----> 2\u001b[0;31m \u001b[0mprint\u001b[0m\u001b[0;34m(\u001b[0m\u001b[0;34m\"Current file name : \"\u001b[0m\u001b[0;34m,\u001b[0m\u001b[0mos\u001b[0m\u001b[0;34m.\u001b[0m\u001b[0mpath\u001b[0m\u001b[0;34m.\u001b[0m\u001b[0mrealpath\u001b[0m\u001b[0;34m(\u001b[0m\u001b[0m__file__\u001b[0m\u001b[0;34m)\u001b[0m\u001b[0;34m)\u001b[0m\u001b[0;34m\u001b[0m\u001b[0;34m\u001b[0m\u001b[0m\n\u001b[0m",
            "\u001b[0;31mNameError\u001b[0m: name '__file__' is not defined"
          ]
        }
      ]
    },
    {
      "cell_type": "markdown",
      "source": [
        "24. Write a Python program to print without newline or space?"
      ],
      "metadata": {
        "id": "lYwJ_dTE6uw5"
      }
    },
    {
      "cell_type": "code",
      "source": [
        "for i in range(10):\n",
        "  print('*', end=\"\")\n",
        "\n",
        "print('\\n')"
      ],
      "metadata": {
        "colab": {
          "base_uri": "https://localhost:8080/"
        },
        "id": "o4-wl2707WX6",
        "outputId": "684831c5-75a4-47e8-e760-0b814102060a"
      },
      "execution_count": 16,
      "outputs": [
        {
          "output_type": "stream",
          "name": "stdout",
          "text": [
            "**********\n",
            "\n"
          ]
        }
      ]
    },
    {
      "cell_type": "markdown",
      "source": [
        "25. Write a Python program to determine profiling of Python programs."
      ],
      "metadata": {
        "id": "J7IyWirb75d8"
      }
    },
    {
      "cell_type": "markdown",
      "source": [
        "- Note : A profile is a set of statistics that describes how often and for how long various parts of the program executed. These statistics can be formatted into reports via the pstats module."
      ],
      "metadata": {
        "id": "fKSgOJHs8yLD"
      }
    },
    {
      "cell_type": "code",
      "source": [
        "import cProfile\n",
        "def sum():\n",
        "  print(1+2)\n",
        "cProfile.run('sum')"
      ],
      "metadata": {
        "colab": {
          "base_uri": "https://localhost:8080/"
        },
        "id": "HKY7FrlT99C7",
        "outputId": "d8076654-ed07-40a7-83a9-36aaca6ed80a"
      },
      "execution_count": 17,
      "outputs": [
        {
          "output_type": "stream",
          "name": "stdout",
          "text": [
            "         3 function calls in 0.000 seconds\n",
            "\n",
            "   Ordered by: standard name\n",
            "\n",
            "   ncalls  tottime  percall  cumtime  percall filename:lineno(function)\n",
            "        1    0.000    0.000    0.000    0.000 <string>:1(<module>)\n",
            "        1    0.000    0.000    0.000    0.000 {built-in method builtins.exec}\n",
            "        1    0.000    0.000    0.000    0.000 {method 'disable' of '_lsprof.Profiler' objects}\n",
            "\n",
            "\n"
          ]
        }
      ]
    }
  ]
}