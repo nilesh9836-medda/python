{
  "nbformat": 4,
  "nbformat_minor": 0,
  "metadata": {
    "colab": {
      "provenance": [],
      "toc_visible": true,
      "authorship_tag": "ABX9TyMI9AUGd9M0VOfNPGAQcXep",
      "include_colab_link": true
    },
    "kernelspec": {
      "name": "python3",
      "display_name": "Python 3"
    },
    "language_info": {
      "name": "python"
    }
  },
  "cells": [
    {
      "cell_type": "markdown",
      "metadata": {
        "id": "view-in-github",
        "colab_type": "text"
      },
      "source": [
        "<a href=\"https://colab.research.google.com/github/nilesh9836-medda/python/blob/main/PYTHON.ipynb\" target=\"_parent\"><img src=\"https://colab.research.google.com/assets/colab-badge.svg\" alt=\"Open In Colab\"/></a>"
      ]
    },
    {
      "cell_type": "markdown",
      "source": [
        "# **Basic Python**\n",
        "---"
      ],
      "metadata": {
        "id": "exv8kIEsZ2Ew"
      }
    },
    {
      "cell_type": "markdown",
      "source": [
        "\n",
        "\n",
        "##   **Basic - 1**"
      ],
      "metadata": {
        "id": "GkpUA5Yob1YM"
      }
    },
    {
      "cell_type": "markdown",
      "source": [
        "\n",
        "\n",
        "1.   Write a python program to get the python version is used\n"
      ],
      "metadata": {
        "id": "xhJbVhDPcbXp"
      }
    },
    {
      "cell_type": "code",
      "source": [
        "import sys\n",
        "print(\"Pyhon Version\")\n",
        "print(sys.version)\n",
        "print(\"Version info.\")\n",
        "print(sys.version_info)"
      ],
      "metadata": {
        "colab": {
          "base_uri": "https://localhost:8080/"
        },
        "id": "k4C5XOt-cxdD",
        "outputId": "a6d03c2d-cf5c-468c-e1d3-cfb8f85d24d5"
      },
      "execution_count": null,
      "outputs": [
        {
          "output_type": "stream",
          "name": "stdout",
          "text": [
            "Pyhon Version\n",
            "3.11.12 (main, Apr  9 2025, 08:55:54) [GCC 11.4.0]\n",
            "Version info.\n",
            "sys.version_info(major=3, minor=11, micro=12, releaselevel='final', serial=0)\n"
          ]
        }
      ]
    },
    {
      "cell_type": "markdown",
      "source": [],
      "metadata": {
        "id": "Mq9zGWpEcUsn"
      }
    },
    {
      "cell_type": "markdown",
      "source": [
        "2.  Write a Python program to diplay the current date and time.\n",
        "\n"
      ],
      "metadata": {
        "id": "XuMXVbDZeX2D"
      }
    },
    {
      "cell_type": "code",
      "source": [
        "import datetime\n",
        "now = datetime.datetime.now()\n",
        "print(\"Current date and time: \")\n",
        "print(now.strftime(\"%d-%m-%y %H:%M:%S\"))"
      ],
      "metadata": {
        "id": "pb6Lc8Tle2lz",
        "colab": {
          "base_uri": "https://localhost:8080/"
        },
        "outputId": "435fa1cf-2d2d-445b-f173-6fc283dd1e33"
      },
      "execution_count": null,
      "outputs": [
        {
          "output_type": "stream",
          "name": "stdout",
          "text": [
            "Current date and time: \n",
            "26-04-25 12:30:09\n"
          ]
        }
      ]
    },
    {
      "cell_type": "markdown",
      "source": [
        "3.  Write a Python program which accept radus of circle from user and compute the area."
      ],
      "metadata": {
        "id": "tIuWWBu4E_a2"
      }
    },
    {
      "cell_type": "code",
      "source": [
        "from math import pi\n",
        "r = float(input(\"Enter the radius of circle: \"))\n",
        "print(\"The area of the circle with radius \"+str(r)+\" is: \"+str(pi*(r**2)))"
      ],
      "metadata": {
        "colab": {
          "base_uri": "https://localhost:8080/"
        },
        "id": "4id6l9UmFaPy",
        "outputId": "b8d004fa-5776-44b1-c217-ce9a95f0bfa2"
      },
      "execution_count": null,
      "outputs": [
        {
          "output_type": "stream",
          "name": "stdout",
          "text": [
            "Enter the radius of circle: 1.1\n",
            "The area of the circle with radius 1.1 is: 3.8013271108436504\n"
          ]
        }
      ]
    },
    {
      "cell_type": "markdown",
      "source": [
        "4.  Write a Python program to print your name in reverse order"
      ],
      "metadata": {
        "id": "D1xhZBu-HH5b"
      }
    },
    {
      "cell_type": "code",
      "source": [
        "fname = input(\"Enter your First name: \")\n",
        "lname = input(\"Enter your last name: \")\n",
        "print(\"Hello \"+lname+\" \"+fname)"
      ],
      "metadata": {
        "colab": {
          "base_uri": "https://localhost:8080/"
        },
        "id": "B6lI3O79Hf6w",
        "outputId": "715ed0bd-23a1-4dbd-d24a-f7c4176e85cc"
      },
      "execution_count": null,
      "outputs": [
        {
          "output_type": "stream",
          "name": "stdout",
          "text": [
            "Enter your First name: Ghost\n",
            "Enter your last name: 0fCode\n",
            "Hello 0fCode Ghost\n"
          ]
        }
      ]
    },
    {
      "cell_type": "markdown",
      "source": [
        "5.  Write a Python program which accepts a sequence of vomma-separated numbers from user and generate a list and tuple with those numbers."
      ],
      "metadata": {
        "id": "g4b-agA_IPW3"
      }
    },
    {
      "cell_type": "markdown",
      "source": [
        "- Tuple ->  A tuple is a container which holds a series of comma seperated values between parentheses. It can hold mix data types and tuples are immutable (i.e. one cannot change its content once created).\n",
        "\n",
        "- List -> A list is a container which holds a series of comma seperated values between square brackets. Like tuple it can also hold mix data types but the contents of list and its size can be changed during execution."
      ],
      "metadata": {
        "id": "lw0fgbeNKMPI"
      }
    },
    {
      "cell_type": "code",
      "source": [
        "values = input(\"Enter comma-seperated values: \")\n",
        "my_list = values.split(\",\")\n",
        "my_tuple = tuple(my_list)\n",
        "print(\"List: \",my_list)\n",
        "print(\"Tuple: \",my_tuple)"
      ],
      "metadata": {
        "colab": {
          "base_uri": "https://localhost:8080/"
        },
        "id": "uS5s7Nf8MqQw",
        "outputId": "dcd7cd11-f883-4679-dbf8-b48c3cde7eb7"
      },
      "execution_count": null,
      "outputs": [
        {
          "output_type": "stream",
          "name": "stdout",
          "text": [
            "Enter comma-seperated values: 1,2,3,4\n",
            "List:  ['1', '2', '3', '4']\n",
            "Tuple:  ('1', '2', '3', '4')\n"
          ]
        }
      ]
    },
    {
      "cell_type": "markdown",
      "source": [
        "5.  wrtie a Python Program to print extension of the give filename from user."
      ],
      "metadata": {
        "id": "DPvBJQ9CRQWI"
      }
    },
    {
      "cell_type": "code",
      "source": [
        "filename = input(\"Enter the filename: \")\n",
        "f_extns = filename.split(\".\")\n",
        "print(\"The extension of file is: \",repr(f_extns[-1]))"
      ],
      "metadata": {
        "colab": {
          "base_uri": "https://localhost:8080/"
        },
        "id": "RZckLVbjVNq2",
        "outputId": "8056fd50-a321-48b2-9c1b-24608e549fc4"
      },
      "execution_count": null,
      "outputs": [
        {
          "output_type": "stream",
          "name": "stdout",
          "text": [
            "Enter the filename: myfile.txt\n",
            "The extension of file is:  'txt'\n"
          ]
        }
      ]
    },
    {
      "cell_type": "markdown",
      "source": [
        "6.  Write a Python program to display the first and last colors from the following list.\n",
        "***color_list=[\"Red\",\"Green\",\"White\",\"Black\"]***"
      ],
      "metadata": {
        "id": "k-H9PY9k-2BF"
      }
    },
    {
      "cell_type": "code",
      "source": [
        "color_list=['Red','Green','White','Black']\n",
        "print(\"%s %s\"%(color_list[0],color_list[-1]))"
      ],
      "metadata": {
        "colab": {
          "base_uri": "https://localhost:8080/"
        },
        "id": "haaNE12E_mPF",
        "outputId": "a926ca98-c983-4fe6-ee31-f20f21822179"
      },
      "execution_count": 1,
      "outputs": [
        {
          "output_type": "stream",
          "name": "stdout",
          "text": [
            "Red Black\n"
          ]
        }
      ]
    },
    {
      "cell_type": "markdown",
      "source": [
        "7.  Write a Python program that accepts an integer (n) and computes the value of n+nn+nnn."
      ],
      "metadata": {
        "id": "ZTGnmi9gAV8q"
      }
    },
    {
      "cell_type": "code",
      "source": [
        "a = int(input(\"Enter an integer : \"))\n",
        "n1 = int(\"%s\"%a)\n",
        "n2 = int(\"%s%s\"%(a,a))\n",
        "n3 = int(\"%s%s%s\"%(a,a,a))\n",
        "print(n1+n2+n3)"
      ],
      "metadata": {
        "colab": {
          "base_uri": "https://localhost:8080/"
        },
        "id": "TEYnSAqeA9EX",
        "outputId": "14b45bcb-c327-4af5-9026-4af1567737c7"
      },
      "execution_count": 2,
      "outputs": [
        {
          "output_type": "stream",
          "name": "stdout",
          "text": [
            "Enter an integer : 5\n",
            "615\n"
          ]
        }
      ]
    },
    {
      "cell_type": "markdown",
      "source": [
        "8.  Write a Python program to print the documents (syntax, description etc.) of python built-in function(s)."
      ],
      "metadata": {
        "id": "8zWra_oMCWv4"
      }
    },
    {
      "cell_type": "code",
      "source": [
        "print(abs.__doc__)"
      ],
      "metadata": {
        "colab": {
          "base_uri": "https://localhost:8080/"
        },
        "id": "fX8ae76eDZVe",
        "outputId": "5bafbe36-acfd-45ee-f3bd-8538e067ec4d"
      },
      "execution_count": 4,
      "outputs": [
        {
          "output_type": "stream",
          "name": "stdout",
          "text": [
            "Return the absolute value of the argument.\n"
          ]
        }
      ]
    },
    {
      "cell_type": "markdown",
      "source": [
        "9.  Write a Python program to print calendar of a given month and year."
      ],
      "metadata": {
        "id": "HMaThWLIEXQV"
      }
    },
    {
      "cell_type": "code",
      "source": [
        "import calendar\n",
        "y = int(input(\"Enter the year : \"))\n",
        "m = int(input(\"Enter the month : \"))\n",
        "print(calendar.month(y,m))"
      ],
      "metadata": {
        "colab": {
          "base_uri": "https://localhost:8080/"
        },
        "id": "bTIaiQmOEr_M",
        "outputId": "1c8d5170-51d3-4b04-cb8d-1a9caf6e45e7"
      },
      "execution_count": 5,
      "outputs": [
        {
          "output_type": "stream",
          "name": "stdout",
          "text": [
            "Enter the year : 2025\n",
            "Enter the month : 4\n",
            "     April 2025\n",
            "Mo Tu We Th Fr Sa Su\n",
            "    1  2  3  4  5  6\n",
            " 7  8  9 10 11 12 13\n",
            "14 15 16 17 18 19 20\n",
            "21 22 23 24 25 26 27\n",
            "28 29 30\n",
            "\n"
          ]
        }
      ]
    },
    {
      "cell_type": "markdown",
      "source": [
        "10. Write a Python program to calculate number of days between two dates."
      ],
      "metadata": {
        "id": "Vb_bSHkXFcv6"
      }
    },
    {
      "cell_type": "code",
      "source": [
        "from datetime import date\n",
        "f_date = date(2025,4,13)\n",
        "l_date = date(2025,4,27)\n",
        "delta = l_date-f_date\n",
        "print(delta.days)"
      ],
      "metadata": {
        "colab": {
          "base_uri": "https://localhost:8080/"
        },
        "id": "b8TkwnAzGkY4",
        "outputId": "17b6950f-0b2c-478c-c08d-e4fd8e33b423"
      },
      "execution_count": 6,
      "outputs": [
        {
          "output_type": "stream",
          "name": "stdout",
          "text": [
            "14\n"
          ]
        }
      ]
    },
    {
      "cell_type": "markdown",
      "source": [
        "11. Write a Python program to test whether a number is within 100 of 1000 or 2000."
      ],
      "metadata": {
        "id": "AAZUdlshNGyr"
      }
    },
    {
      "cell_type": "code",
      "source": [
        "def near_thousand(n):\n",
        "  return ((abs(1000-n)<=100)or(abs(2000-n)<=100))\n",
        "print(near_thousand(1000))\n",
        "print(near_thousand(900))\n",
        "print(near_thousand(800))\n",
        "print(near_thousand(2200))"
      ],
      "metadata": {
        "colab": {
          "base_uri": "https://localhost:8080/"
        },
        "id": "PZ3O2zbxOqE4",
        "outputId": "83712325-1230-4f5e-de2c-3483efb8cd24"
      },
      "execution_count": 1,
      "outputs": [
        {
          "output_type": "stream",
          "name": "stdout",
          "text": [
            "True\n",
            "True\n",
            "False\n",
            "False\n"
          ]
        }
      ]
    },
    {
      "cell_type": "markdown",
      "source": [
        "12. Write a Python program to calculate the sum of three given numbers, if the values are equal then return thrice of their sum."
      ],
      "metadata": {
        "id": "6lyNLqFv2j1R"
      }
    },
    {
      "cell_type": "code",
      "source": [
        "def sum_thrice(x,y,z):\n",
        "\n",
        "  sum = x+y+z\n",
        "\n",
        "  if x==y==z:\n",
        "    sum = sum*3\n",
        "  return sum\n",
        "\n",
        "print(sum_thrice(1,2,3))\n",
        "print(sum_thrice(3,3,3))"
      ],
      "metadata": {
        "colab": {
          "base_uri": "https://localhost:8080/"
        },
        "id": "xKgJbdga3LNE",
        "outputId": "2cf74698-cd71-4f30-fcc3-4931c5d4fa25"
      },
      "execution_count": 2,
      "outputs": [
        {
          "output_type": "stream",
          "name": "stdout",
          "text": [
            "6\n",
            "27\n"
          ]
        }
      ]
    },
    {
      "cell_type": "markdown",
      "source": [
        "13. Write a python program"
      ],
      "metadata": {
        "id": "56gqCMXyDbKI"
      }
    }
  ]
}